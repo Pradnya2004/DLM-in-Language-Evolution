{
  "nbformat": 4,
  "nbformat_minor": 0,
  "metadata": {
    "colab": {
      "provenance": []
    },
    "kernelspec": {
      "name": "python3",
      "display_name": "Python 3"
    },
    "language_info": {
      "name": "python"
    },
    "widgets": {
      "application/vnd.jupyter.widget-state+json": {
        "be3339d4930a409d915cc8a4a6e5893f": {
          "model_module": "@jupyter-widgets/controls",
          "model_name": "FileUploadModel",
          "model_module_version": "1.5.0",
          "state": {
            "_counter": 1,
            "_dom_classes": [],
            "_model_module": "@jupyter-widgets/controls",
            "_model_module_version": "1.5.0",
            "_model_name": "FileUploadModel",
            "_view_count": null,
            "_view_module": "@jupyter-widgets/controls",
            "_view_module_version": "1.5.0",
            "_view_name": "FileUploadView",
            "accept": ".conll",
            "button_style": "",
            "data": [
              null
            ],
            "description": "Upload",
            "description_tooltip": null,
            "disabled": false,
            "error": "",
            "icon": "upload",
            "layout": "IPY_MODEL_9c0c937ee567412489264c7a65548054",
            "metadata": [
              {
                "name": "parsed_data (5).conll",
                "type": "",
                "size": 3307,
                "lastModified": 1719308912376
              }
            ],
            "multiple": false,
            "style": "IPY_MODEL_733ee898c4cf4ad783baf121f3cc11ce"
          }
        },
        "9c0c937ee567412489264c7a65548054": {
          "model_module": "@jupyter-widgets/base",
          "model_name": "LayoutModel",
          "model_module_version": "1.2.0",
          "state": {
            "_model_module": "@jupyter-widgets/base",
            "_model_module_version": "1.2.0",
            "_model_name": "LayoutModel",
            "_view_count": null,
            "_view_module": "@jupyter-widgets/base",
            "_view_module_version": "1.2.0",
            "_view_name": "LayoutView",
            "align_content": null,
            "align_items": null,
            "align_self": null,
            "border": null,
            "bottom": null,
            "display": null,
            "flex": null,
            "flex_flow": null,
            "grid_area": null,
            "grid_auto_columns": null,
            "grid_auto_flow": null,
            "grid_auto_rows": null,
            "grid_column": null,
            "grid_gap": null,
            "grid_row": null,
            "grid_template_areas": null,
            "grid_template_columns": null,
            "grid_template_rows": null,
            "height": null,
            "justify_content": null,
            "justify_items": null,
            "left": null,
            "margin": null,
            "max_height": null,
            "max_width": null,
            "min_height": null,
            "min_width": null,
            "object_fit": null,
            "object_position": null,
            "order": null,
            "overflow": null,
            "overflow_x": null,
            "overflow_y": null,
            "padding": null,
            "right": null,
            "top": null,
            "visibility": null,
            "width": null
          }
        },
        "733ee898c4cf4ad783baf121f3cc11ce": {
          "model_module": "@jupyter-widgets/controls",
          "model_name": "ButtonStyleModel",
          "model_module_version": "1.5.0",
          "state": {
            "_model_module": "@jupyter-widgets/controls",
            "_model_module_version": "1.5.0",
            "_model_name": "ButtonStyleModel",
            "_view_count": null,
            "_view_module": "@jupyter-widgets/base",
            "_view_module_version": "1.2.0",
            "_view_name": "StyleView",
            "button_color": null,
            "font_weight": ""
          }
        }
      }
    }
  },
  "cells": [
    {
      "cell_type": "code",
      "execution_count": null,
      "metadata": {
        "id": "M8MuYc-VTZUy"
      },
      "outputs": [],
      "source": [
        "import networkx as nx"
      ]
    },
    {
      "cell_type": "code",
      "source": [
        "# Step 1: Upload the CONLLU file\n",
        "from IPython.display import display\n",
        "from ipywidgets import FileUpload\n",
        "\n",
        "# Create a file upload widget that accepts CONLLU files\n",
        "upload = FileUpload(accept='.conll', multiple=False)\n",
        "\n",
        "# Display the upload widget\n",
        "display(upload)\n"
      ],
      "metadata": {
        "colab": {
          "base_uri": "https://localhost:8080/",
          "height": 49,
          "referenced_widgets": [
            "be3339d4930a409d915cc8a4a6e5893f",
            "9c0c937ee567412489264c7a65548054",
            "733ee898c4cf4ad783baf121f3cc11ce"
          ]
        },
        "id": "qxrik0lwTKCn",
        "outputId": "89915489-c669-4549-fe17-ad4654661683"
      },
      "execution_count": null,
      "outputs": [
        {
          "output_type": "display_data",
          "data": {
            "text/plain": [
              "FileUpload(value={}, accept='.conll', description='Upload')"
            ],
            "application/vnd.jupyter.widget-view+json": {
              "version_major": 2,
              "version_minor": 0,
              "model_id": "be3339d4930a409d915cc8a4a6e5893f"
            }
          },
          "metadata": {}
        }
      ]
    },
    {
      "cell_type": "code",
      "source": [
        "# Check if any files were uploaded\n",
        "if upload.value:\n",
        "    # Get the uploaded file content\n",
        "    uploaded_file_content = upload.value[next(iter(upload.value))]['content']\n",
        "    # Process the uploaded file content\n",
        "    # (Your code to process the file goes here)\n",
        "else:\n",
        "    print(\"No file uploaded. Please upload a CoNLL-U format file.\")\n"
      ],
      "metadata": {
        "id": "LlwT7f0qsbdv"
      },
      "execution_count": null,
      "outputs": []
    },
    {
      "cell_type": "code",
      "source": [
        "!pip install python-docx\n"
      ],
      "metadata": {
        "id": "9jsxPlNzTkPv",
        "colab": {
          "base_uri": "https://localhost:8080/"
        },
        "outputId": "1a12f5af-f242-484d-a3a5-f5e68de793df"
      },
      "execution_count": null,
      "outputs": [
        {
          "output_type": "stream",
          "name": "stdout",
          "text": [
            "Collecting python-docx\n",
            "  Downloading python_docx-1.1.2-py3-none-any.whl (244 kB)\n",
            "\u001b[2K     \u001b[90m━━━━━━━━━━━━━━━━━━━━━━━━━━━━━━━━━━━━━━━━\u001b[0m \u001b[32m244.3/244.3 kB\u001b[0m \u001b[31m4.1 MB/s\u001b[0m eta \u001b[36m0:00:00\u001b[0m\n",
            "\u001b[?25hRequirement already satisfied: lxml>=3.1.0 in /usr/local/lib/python3.10/dist-packages (from python-docx) (4.9.4)\n",
            "Requirement already satisfied: typing-extensions>=4.9.0 in /usr/local/lib/python3.10/dist-packages (from python-docx) (4.12.2)\n",
            "Installing collected packages: python-docx\n",
            "Successfully installed python-docx-1.1.2\n"
          ]
        }
      ]
    },
    {
      "cell_type": "code",
      "source": [
        "import re\n",
        "\n",
        "def remove_punctuation(text):\n",
        "    return re.sub(r'[^\\w\\s]', '', text)\n"
      ],
      "metadata": {
        "id": "3CSKKoe1-jv7"
      },
      "execution_count": null,
      "outputs": []
    },
    {
      "cell_type": "code",
      "source": [
        "def extract_nodes_and_edges(conllu_content):\n",
        "    sentences = conllu_content.strip().split('\\n\\n')\n",
        "    all_nodes = []\n",
        "    all_edges = []\n",
        "    sent_id = 0\n",
        "    for sentence in sentences:\n",
        "        sent_id += 1\n",
        "        lines = sentence.strip().split('\\n')\n",
        "        nodes = []\n",
        "        edges = []\n",
        "\n",
        "        for line in lines:\n",
        "            if line.startswith('#'):\n",
        "                continue\n",
        "            parts = line.split('\\t')\n",
        "            node_id = parts[0]\n",
        "            word = parts[1]\n",
        "            pos = parts[3]\n",
        "            head = parts[5]\n",
        "\n",
        "            # Remove punctuation from words\n",
        "            cleaned_word = remove_punctuation(word)\n",
        "\n",
        "            if cleaned_word:  # Only add nodes with non-empty words\n",
        "                nodes.append((node_id, cleaned_word, pos, sent_id))\n",
        "                if head != '0':  # Only add edges if head is not '0'\n",
        "                    edges.append((head, node_id))\n",
        "\n",
        "        all_nodes.append(nodes)\n",
        "        all_edges.append(edges)\n",
        "\n",
        "    return all_nodes, all_edges\n",
        "\n",
        "\n"
      ],
      "metadata": {
        "id": "x2VIe1btvcoi",
        "collapsed": true
      },
      "execution_count": null,
      "outputs": []
    },
    {
      "cell_type": "code",
      "source": [
        "uploaded_file_content = upload.value[next(iter(upload.value))]['content'].decode('utf-8')\n",
        "sentences = uploaded_file_content.strip().split('\\n\\n')\n",
        "for sentence in sentences:\n",
        "  print(sentence+\"\\n\\n\\n\\n\")"
      ],
      "metadata": {
        "colab": {
          "base_uri": "https://localhost:8080/"
        },
        "id": "7zauUwlM5tnn",
        "outputId": "2e09d3b6-33f0-4610-b62d-ebe0f0265c7a",
        "collapsed": true
      },
      "execution_count": null,
      "outputs": [
        {
          "output_type": "stream",
          "name": "stdout",
          "text": [
            "1\tHolly\tHolly\tPROPN\tNNP\t3\tcompound\t0\t5\t2\n",
            "2\tBluff\tBluff\tPROPN\tNNP\t1\tflat\t7\t12\t1\n",
            "3\tChurch\tChurch\tPROPN\tNNP\t4\tnsubj\t14\t20\t1\n",
            "4\twishes\twish\tVERB\tVBZ\t0\troot\t22\t28\t4\n",
            "5\tto\tto\tPART\tTO\t6\tmark\t30\t32\t1\n",
            "6\tknow\tknow\tVERB\tVB\t4\txcomp\t34\t38\t2\n",
            "7\tif\tif\tSCONJ\tIN\t10\tmark\t40\t42\t3\n",
            "8\tany\tany\tDET\tDT\t9\tdet\t44\t47\t1\n",
            "9\tchurch\tchurch\tNOUN\tNN\t10\tnsubj\t48\t54\t1\n",
            "10\thas\thave\tVERB\tVBZ\t6\tccomp\t56\t59\t4\n",
            "11\tchurch\tchurch\tNOUN\tNN\t12\tcompound\t61\t67\t1\n",
            "12\tfurniture\tfurniture\tNOUN\tNN\t10\tobj\t69\t78\t2\n",
            "13\tit\tit\tPRON\tPRP\t15\tnsubj\t80\t82\t2\n",
            "14\tis\tbe\tAUX\tVBZ\t15\taux\t84\t86\t1\n",
            "15\ttaking\ttake\tVERB\tVBG\t12\tacl:relcl\t88\t94\t3\n",
            "16\tout\tout\tADP\tRP\t15\tcompound:prt\t96\t99\t1\n",
            "17\tto\tto\tPART\tTO\t18\tmark\t101\t103\t1\n",
            "18\tgive\tgive\tVERB\tVB\t15\tadvcl\t104\t108\t3\n",
            "19\tplace\tplace\tNOUN\tNN\t18\tobj\t110\t115\t1\n",
            "20\tto\tto\tADP\tIN\t22\tcase\t117\t119\t2\n",
            "21\tnew\tnew\tADJ\tJJ\t22\tamod\t121\t124\t1\n",
            "22\tfurniture\tfurniture\tNOUN\tNN\t18\tobl\t126\t135\t4\n",
            "23\t.\t.\tPUNCT\t.\t4\tpunct\t135\t136\t19\n",
            "\n",
            "\n",
            "\n",
            "\n",
            "1\tIf\tif\tSCONJ\tIN\t3\tmark\t138\t140\t2\n",
            "2\tyou\tyou\tPRON\tPRP\t3\tnsubj\t142\t145\t1\n",
            "3\thave\thave\tAUX\tVBP\t4\taux\t147\t151\t1\n",
            "4\tused\tuse\tVERB\tVBN\t0\troot\t153\t157\t4\n",
            "5\tchurch\tchurch\tNOUN\tNN\t6\tcompound\t158\t164\t1\n",
            "6\tfurniture\tfurniture\tNOUN\tNN\t4\tobj\t166\t175\t2\n",
            "7\tto\tto\tPART\tTO\t8\tmark\t177\t179\t1\n",
            "8\tdispose\tdispose\tVERB\tVB\t4\tadvcl\t181\t188\t4\n",
            "9\tof\tof\tADP\tIN\t8\tobl\t190\t192\t1\n",
            "10\twrite\twrite\tVERB\tVB\t8\tadvcl\t194\t199\t2\n",
            "11\tF.\tF.\tPROPN\tNNP\t10\tobj\t201\t203\t1\n",
            "12\tB.\tB.\tPROPN\tNNP\t11\tflat\t205\t207\t1\n",
            "13\tHart\tHart\tPROPN\tNNP\t11\tflat\t209\t213\t2\n",
            "14\t,\t,\tPUNCT\t,\t15\tpunct\t213\t214\t1\n",
            "15\tHolly\tHolly\tPROPN\tNNP\t11\tconj\t215\t220\t4\n",
            "16\tBluff\tBluff\tPROPN\tNNP\t15\tflat\t222\t227\t1\n",
            "17\t.\t.\tPUNCT\t.\t3\tpunct\t227\t228\t14\n",
            "\n",
            "\n",
            "\n",
            "\n",
            "1\tPastor\tpastor\tNOUN\tNN\t6\tnsubj\t229\t235\t5\n",
            "2\tE.\tE.\tPROPN\tNNP\t1\tflat\t237\t239\t1\n",
            "3\tL.\tL.\tPROPN\tNNP\t1\tflat\t241\t243\t2\n",
            "4\tDavis\tDavis\tPROPN\tNNP\t1\tflat\t245\t250\t3\n",
            "5\thas\thave\tAUX\tVBZ\t6\taux\t252\t255\t1\n",
            "6\treceived\treceive\tVERB\tVBN\t0\troot\t257\t265\t6\n",
            "7\ta\ta\tDET\tDT\t9\tdet\t267\t268\t2\n",
            "8\tgracious\tgracious\tADJ\tJJ\t9\tamod\t270\t278\t1\n",
            "9\twelcome\twelcome\tNOUN\tNN\t6\tobj\t279\t286\t3\n",
            "10\tat\tat\tADP\tIN\t11\tcase\t288\t290\t1\n",
            "11\tPontotoc\tPontotoc\tPROPN\tNNP\t9\tnmod\t292\t300\t2\n",
            "12\tand\tand\tCCONJ\tCC\t15\tcc\t302\t305\t3\n",
            "13\the\the\tPRON\tPRP\t15\tnsubj\t307\t309\t2\n",
            "14\tis\tbe\tAUX\tVBZ\t15\taux\t311\t313\t1\n",
            "15\tfeeling\tfeel\tVERB\tVBG\t6\tconj\t315\t322\t9\n",
            "16\tmuch\tmuch\tADV\tRB\t15\tadvmod\t324\t328\t1\n",
            "17\tat\tat\tADP\tIN\t18\tcase\t330\t332\t1\n",
            "18\thome\thome\tNOUN\tNN\t16\tobl\t333\t337\t2\n",
            "19\tand\tand\tCCONJ\tCC\t20\tcc\t339\t342\t1\n",
            "20\thappy\thappy\tADJ\tJJ\t18\tconj\t344\t349\t2\n",
            "21\t.\t.\tPUNCT\t.\t6\tpunct\t349\t350\t15\n",
            "\n",
            "\n",
            "\n",
            "\n",
            "1\tHe\the\tPRON\tPRP\t2\tnsubj\t352\t354\t1\n",
            "2\treports\treport\tVERB\tVBZ\t0\troot\t356\t363\t2\n",
            "3\tan\ta\tDET\tDT\t5\tdet\t365\t367\t2\n",
            "4\tinteresting\tinteresting\tADJ\tJJ\t5\tamod\t369\t380\t1\n",
            "5\ttime\ttime\tNOUN\tNN\t2\tobj\t382\t386\t3\n",
            "6\tat\tat\tADP\tIN\t9\tcase\t387\t389\t3\n",
            "7\tthe\tthe\tDET\tDT\t9\tdet\t391\t394\t2\n",
            "8\tBible\tBible\tPROPN\tNNP\t9\tcompound\t396\t401\t1\n",
            "9\tInstitute\tInstitute\tPROPN\tNNP\t2\tobl\t403\t412\t7\n",
            "10\tat\tat\tADP\tIN\t11\tcase\t414\t416\t1\n",
            "11\tEcru\tEcru\tPROPN\tNNP\t9\tnmod\t418\t422\t2\n",
            "12\twhere\twhere\tADV\tWRB\t15\tadvmod\t424\t429\t3\n",
            "13\tthey\tthey\tPRON\tPRP\t15\tnsubj:pass\t431\t435\t2\n",
            "14\tare\tbe\tAUX\tVBP\t15\taux:pass\t437\t440\t1\n",
            "15\taccustomed\taccustom\tVERB\tVBN\t5\tacl:relcl\t441\t451\t10\n",
            "16\tto\tto\tADP\tIN\t19\tcase\t453\t455\t3\n",
            "17\ta\ta\tDET\tDT\t19\tdet\t457\t458\t2\n",
            "18\tgreat\tgreat\tADJ\tJJ\t19\tamod\t460\t465\t1\n",
            "19\tprogram\tprogram\tNOUN\tNN\t15\tobl\t467\t474\t4\n",
            "20\tand\tand\tCCONJ\tCC\t23\tcc\t476\t479\t3\n",
            "21\tan\ta\tDET\tDT\t23\tdet\t481\t483\t2\n",
            "22\tappreciative\tappreciative\tADJ\tJJ\t23\tamod\t485\t497\t1\n",
            "23\tcongregation\tcongregation\tNOUN\tNN\t19\tconj\t499\t511\t4\n",
            "24\t.\t.\tPUNCT\t.\t2\tpunct\t511\t512\t22\n",
            "\n",
            "\n",
            "\n",
            "\n"
          ]
        }
      ]
    },
    {
      "cell_type": "code",
      "source": [
        "def generate_latex_dependency_trees(all_nodes, all_edges):\n",
        "    latex_code = \"\"\n",
        "\n",
        "    for nodes, edges in zip(all_nodes, all_edges):\n",
        "        latex_code += \"\\\\begin{dependency}[theme = simple]\\n\"\n",
        "        latex_code += \"\\\\begin{deptext}[column sep=1em]\\n\"\n",
        "\n",
        "        # Add words in the dependency tree\n",
        "        words = \" \\& \".join([word for _, word, _, _ in nodes])\n",
        "        latex_code += f\"{words} \\\\\\\\\\n\\\\end{{deptext}}\\n\"\n",
        "\n",
        "        # Add dependency edges\n",
        "        for head, dependent in edges:\n",
        "            latex_code += f\"\\\\depedge{{{head}}}{{{dependent}}}{{}}\\n\"\n",
        "\n",
        "        latex_code += \"\\\\end{dependency}\\n\\n\"\n",
        "\n",
        "    return latex_code\n",
        "\n",
        "\n",
        "# Assuming you have uploaded the CoNLL-U file content\n",
        "uploaded_file_content = upload.value[next(iter(upload.value))]['content'].decode('utf-8')\n",
        "\n",
        "# Extract nodes and edges\n",
        "all_nodes, all_edges = extract_nodes_and_edges(uploaded_file_content)\n",
        "\n",
        "# Generate LaTeX code for dependency trees\n",
        "latex_code = generate_latex_dependency_trees(all_nodes, all_edges)\n",
        "\n",
        "# Print the LaTeX code\n",
        "print(latex_code)\n"
      ],
      "metadata": {
        "id": "izqRatYhRzYs",
        "outputId": "fca8b7b6-dbb2-4b00-ee50-435f543289e2",
        "colab": {
          "base_uri": "https://localhost:8080/"
        }
      },
      "execution_count": null,
      "outputs": [
        {
          "output_type": "stream",
          "name": "stdout",
          "text": [
            "\\begin{dependency}[theme = simple]\n",
            "\\begin{deptext}[column sep=1em]\n",
            "Holly \\& Bluff \\& Church \\& wishes \\& to \\& know \\& if \\& any \\& church \\& has \\& church \\& furniture \\& it \\& is \\& taking \\& out \\& to \\& give \\& place \\& to \\& new \\& furniture \\\\\n",
            "\\end{deptext}\n",
            "\\depedge{3}{1}{}\n",
            "\\depedge{1}{2}{}\n",
            "\\depedge{4}{3}{}\n",
            "\\depedge{6}{5}{}\n",
            "\\depedge{4}{6}{}\n",
            "\\depedge{10}{7}{}\n",
            "\\depedge{9}{8}{}\n",
            "\\depedge{10}{9}{}\n",
            "\\depedge{6}{10}{}\n",
            "\\depedge{12}{11}{}\n",
            "\\depedge{10}{12}{}\n",
            "\\depedge{15}{13}{}\n",
            "\\depedge{15}{14}{}\n",
            "\\depedge{12}{15}{}\n",
            "\\depedge{15}{16}{}\n",
            "\\depedge{18}{17}{}\n",
            "\\depedge{15}{18}{}\n",
            "\\depedge{18}{19}{}\n",
            "\\depedge{22}{20}{}\n",
            "\\depedge{22}{21}{}\n",
            "\\depedge{18}{22}{}\n",
            "\\end{dependency}\n",
            "\n",
            "\\begin{dependency}[theme = simple]\n",
            "\\begin{deptext}[column sep=1em]\n",
            "If \\& you \\& have \\& used \\& church \\& furniture \\& to \\& dispose \\& of \\& write \\& F \\& B \\& Hart \\& Holly \\& Bluff \\\\\n",
            "\\end{deptext}\n",
            "\\depedge{3}{1}{}\n",
            "\\depedge{3}{2}{}\n",
            "\\depedge{4}{3}{}\n",
            "\\depedge{6}{5}{}\n",
            "\\depedge{4}{6}{}\n",
            "\\depedge{8}{7}{}\n",
            "\\depedge{4}{8}{}\n",
            "\\depedge{8}{9}{}\n",
            "\\depedge{8}{10}{}\n",
            "\\depedge{10}{11}{}\n",
            "\\depedge{11}{12}{}\n",
            "\\depedge{11}{13}{}\n",
            "\\depedge{11}{15}{}\n",
            "\\depedge{15}{16}{}\n",
            "\\end{dependency}\n",
            "\n",
            "\\begin{dependency}[theme = simple]\n",
            "\\begin{deptext}[column sep=1em]\n",
            "Pastor \\& E \\& L \\& Davis \\& has \\& received \\& a \\& gracious \\& welcome \\& at \\& Pontotoc \\& and \\& he \\& is \\& feeling \\& much \\& at \\& home \\& and \\& happy \\\\\n",
            "\\end{deptext}\n",
            "\\depedge{6}{1}{}\n",
            "\\depedge{1}{2}{}\n",
            "\\depedge{1}{3}{}\n",
            "\\depedge{1}{4}{}\n",
            "\\depedge{6}{5}{}\n",
            "\\depedge{9}{7}{}\n",
            "\\depedge{9}{8}{}\n",
            "\\depedge{6}{9}{}\n",
            "\\depedge{11}{10}{}\n",
            "\\depedge{9}{11}{}\n",
            "\\depedge{15}{12}{}\n",
            "\\depedge{15}{13}{}\n",
            "\\depedge{15}{14}{}\n",
            "\\depedge{6}{15}{}\n",
            "\\depedge{15}{16}{}\n",
            "\\depedge{18}{17}{}\n",
            "\\depedge{16}{18}{}\n",
            "\\depedge{20}{19}{}\n",
            "\\depedge{18}{20}{}\n",
            "\\end{dependency}\n",
            "\n",
            "\\begin{dependency}[theme = simple]\n",
            "\\begin{deptext}[column sep=1em]\n",
            "He \\& reports \\& an \\& interesting \\& time \\& at \\& the \\& Bible \\& Institute \\& at \\& Ecru \\& where \\& they \\& are \\& accustomed \\& to \\& a \\& great \\& program \\& and \\& an \\& appreciative \\& congregation \\\\\n",
            "\\end{deptext}\n",
            "\\depedge{2}{1}{}\n",
            "\\depedge{5}{3}{}\n",
            "\\depedge{5}{4}{}\n",
            "\\depedge{2}{5}{}\n",
            "\\depedge{9}{6}{}\n",
            "\\depedge{9}{7}{}\n",
            "\\depedge{9}{8}{}\n",
            "\\depedge{2}{9}{}\n",
            "\\depedge{11}{10}{}\n",
            "\\depedge{9}{11}{}\n",
            "\\depedge{15}{12}{}\n",
            "\\depedge{15}{13}{}\n",
            "\\depedge{15}{14}{}\n",
            "\\depedge{5}{15}{}\n",
            "\\depedge{19}{16}{}\n",
            "\\depedge{19}{17}{}\n",
            "\\depedge{19}{18}{}\n",
            "\\depedge{15}{19}{}\n",
            "\\depedge{23}{20}{}\n",
            "\\depedge{23}{21}{}\n",
            "\\depedge{23}{22}{}\n",
            "\\depedge{19}{23}{}\n",
            "\\end{dependency}\n",
            "\n",
            "\n"
          ]
        }
      ]
    }
  ]
}